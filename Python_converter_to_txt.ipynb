{
 "cells": [
  {
   "cell_type": "code",
   "execution_count": 57,
   "metadata": {},
   "outputs": [],
   "source": [
    "import subprocess"
   ]
  },
  {
   "cell_type": "code",
   "execution_count": 58,
   "metadata": {},
   "outputs": [],
   "source": [
    "#test files\n",
    "path = '...Uploaded_files/'\n",
    "new_path = '...Converted_files/'\n",
    "test1 = path + 'test_doc.doc'\n",
    "test2 = path + 'test_docx.docx'\n",
    "test3 = path + 'test_pdf.pdf'\n",
    "test4 = path + 'test_odt.odt'"
   ]
  },
  {
   "cell_type": "code",
   "execution_count": 59,
   "metadata": {},
   "outputs": [],
   "source": [
    "def Format_definition(name):\n",
    "    name = name.split('.')[-1]\n",
    "    if name == 'txt' or name == 'pdf' or name == 'doc' or name == 'docx' or name == 'odt':\n",
    "        return name\n",
    "    else: \n",
    "        return 'undefined'"
   ]
  },
  {
   "cell_type": "code",
   "execution_count": 68,
   "metadata": {},
   "outputs": [],
   "source": [
    "def Convert(name):\n",
    "    format = Format_definition(name)\n",
    "    if format == 'doc' or format == 'docx' or format == 'odt':\n",
    "        subprocess.call(['soffice', '--headless', '--convert-to', 'txt:Text', '--outdir', new_path, name])\n",
    "        return 'converted!'\n",
    "    elif format == 'pdf':\n",
    "        #для работы с pdf2txt.py устанавливаем pdfminer.six\n",
    "        linux_string = 'pdf2txt.py ' + test3 + ' > ' + new_path + '.'.join(test3.split('/')[-1].split('.')[:-1]) + '.txt'\n",
    "        subprocess.check_output(linux_string, shell=True)\n",
    "    else: \n",
    "        return 'no doc/docx format'"
   ]
  },
  {
   "cell_type": "code",
   "execution_count": 72,
   "metadata": {},
   "outputs": [
    {
     "data": {
      "text/plain": [
       "'converted!'"
      ]
     },
     "execution_count": 72,
     "metadata": {},
     "output_type": "execute_result"
    }
   ],
   "source": [
    "Convert(test4)"
   ]
  }
 ],
 "metadata": {
  "kernelspec": {
   "display_name": "Python 3",
   "language": "python",
   "name": "python3"
  },
  "language_info": {
   "codemirror_mode": {
    "name": "ipython",
    "version": 3
   },
   "file_extension": ".py",
   "mimetype": "text/x-python",
   "name": "python",
   "nbconvert_exporter": "python",
   "pygments_lexer": "ipython3",
   "version": "3.7.2"
  }
 },
 "nbformat": 4,
 "nbformat_minor": 2
}
